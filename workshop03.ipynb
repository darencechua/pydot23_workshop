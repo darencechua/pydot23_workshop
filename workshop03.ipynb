{
 "cells": [
  {
   "cell_type": "markdown",
   "metadata": {},
   "source": [
    "# Module 2:\n",
    "Make API call\n",
    "- Collect data from API &amp; store in csv\n",
    "- Scrape static websites &amp; store in csv\n",
    "---\n",
    "Scenario\n",
    "---\n",
    "\n",
    "1. You have been given a API with api documentation.\n",
    "2. Make api call from python & store the resp in a python dict\n",
    "2. (2A) *Optional*: Store the resp dict into a file (json)\n",
    "\n",
    "3. Parse the following info from the API Response.\n",
    "\n",
    "Example: URL \n",
    "\n",
    "https://min-api.cryptocompare.com/data/price?fsym=USD&tsyms=JPY,INR\n",
    "```\n",
    "{\n",
    "\"JPY\": 107.93,\n",
    "\"INR\": 84.82\n",
    "}\n",
    "```\n",
    "4. Store that parsed infomation/data into a csv file.\n",
    "\n",
    "| sno | from_symbol | to_symbol | price | datetime |\n",
    "| ---  | ---  | ---  | ---  | --- |\n",
    "| 1 | USD | INR | 71 | ... |\n",
    "| 2 | USD | SGD | 1.37| ... |\n",
    "\n",
    "use python `time` or `datetime` module to get the current time, when you make api call and store that into the csv file..\n",
    "\n",
    "\n",
    "## Part 2: Scrape static websites\n",
    "\n",
    "\n",
    "https://www.xe.com/currencyconverter/convert/?Amount=1&From=USD&To=SGD\n",
    "\n",
    "\n",
    "![https://i.imgur.com/C4Eub9d.png](https://i.imgur.com/C4Eub9d.png)\n",
    "\n",
    "\n",
    "\n",
    "Have a look at the html as well, to parse the exchange rate.\n",
    "\n",
    "![https://i.imgur.com/vDAntcv.png](https://i.imgur.com/vDAntcv.png)\n",
    "\n",
    "1. Look at the query parameter and decide how to pass inputs..\n",
    "2. Use `bs4` library to parse the html as show below.\n",
    "3. You have to extract the price shown here and save it into a csv file..\n",
    "\n",
    "| sno | from_symbol | to_symbol | price | datetime |\n",
    "| ---  | ---  | ---  | ---  | --- |\n",
    "| 1 | USD | SGD | 1.37| ... |\n",
    "\n",
    "--- \n",
    "\n",
    "\n",
    "** Try this if you completed the base workshop **\n",
    "---\n",
    "1. Store the same data into mongodb as well\n",
    "  - create a `exchange` db in your mlab account.\n",
    "  - create a collection `exchange-rates`\n",
    "  - You can store sample record which looks like the following json.\n",
    "\n",
    "```\n",
    "{\n",
    "    \"from_symbol\": \"USD\",\n",
    "    'to_symbol' : \"SGD\",\n",
    "    \"price\" : 1.37,\n",
    "    \"datetime\" : \"....\"\n",
    "}\n",
    "```"
   ]
  },
  {
   "cell_type": "code",
   "execution_count": 5,
   "metadata": {},
   "outputs": [
    {
     "name": "stdout",
     "output_type": "stream",
     "text": [
      "key in from_symbol = USD\n",
      "key in to_symbol = SGD\n",
      "key in to_symbol = INR\n",
      "key in to_symbol = done\n",
      "Done!\n"
     ]
    }
   ],
   "source": [
    "import datetime\n",
    "import requests\n",
    "import csv\n",
    "\n",
    "header = ['sno','from_symbol','to_symbol','price','datetime']\n",
    "\n",
    "sno = 0\n",
    "file = 'workshop3.csv'\n",
    "with open(file, mode='w',newline='') as f:\n",
    "        csv_writer = csv.writer(f)\n",
    "        csv_writer.writerow(header)\n",
    "        \n",
    "from_symbol = str(input('key in from_symbol = '))\n",
    "        \n",
    "try: \n",
    "    while True:\n",
    "       \n",
    "        to_symbol = str(input('key in to_symbol = '))\n",
    "\n",
    "\n",
    "        def getdata():\n",
    "            url = f'https://min-api.cryptocompare.com/data/price?fsym=USD&tsyms={from_symbol},{to_symbol}'\n",
    "            response = requests.get(url)\n",
    "            data = response.json()\n",
    "            price = data[to_symbol]\n",
    "            now = datetime.datetime.now()\n",
    "            row = [from_symbol, to_symbol, price, now]\n",
    "            return row\n",
    "\n",
    "        sno += 1\n",
    "        new_row = getdata()\n",
    "        new_row.insert(0, sno)\n",
    "        \n",
    "        with open(file, mode='a',newline='') as f:\n",
    "            csv_writer = csv.writer(f)\n",
    "            csv_writer.writerow(new_row)\n",
    "except: \n",
    "\n",
    "    print('Done!')"
   ]
  },
  {
   "cell_type": "markdown",
   "metadata": {},
   "source": []
  },
  {
   "cell_type": "code",
   "execution_count": 8,
   "metadata": {},
   "outputs": [
    {
     "name": "stdout",
     "output_type": "stream",
     "text": [
      "INR\n",
      "SGD\n"
     ]
    }
   ],
   "source": [
    "input = \"INR,SGD\"\n",
    "count = input.split(',')\n",
    "for element in count:\n",
    "    print (element)"
   ]
  },
  {
   "cell_type": "code",
   "execution_count": 16,
   "metadata": {},
   "outputs": [
    {
     "name": "stdout",
     "output_type": "stream",
     "text": [
      "To? = SGD\n",
      "[<div id=\"reactContainer\"></div>]\n"
     ]
    }
   ],
   "source": [
    "#part 2\n",
    "\n",
    "from bs4 import BeautifulSoup\n",
    "import csv\n",
    "import requests\n",
    "\n",
    "#from_symbol = str(input('From? = '))\n",
    "to_symbol = str(input('To? = '))\n",
    "\n",
    "url = f'https://www.xe.com/currencyconverter/convert/?Amount=1&From=USD&To={to_symbol}'\n",
    "html = requests.get(url)\n",
    "html_data = html.text\n",
    "page_soup = BeautifulSoup(html_data,\"html.parser\")\n",
    "found = page_soup.findAll(\"div\")\n",
    "#found = page_soup.find(\"span\",{\"class\":\"convertresults-toAmount\"})\n",
    "\n",
    "\n",
    "print(found)\n"
   ]
  },
  {
   "cell_type": "code",
   "execution_count": null,
   "metadata": {},
   "outputs": [],
   "source": []
  },
  {
   "cell_type": "code",
   "execution_count": 2,
   "metadata": {},
   "outputs": [
    {
     "name": "stdout",
     "output_type": "stream",
     "text": [
      "Collecting urllib\n",
      "Note: you may need to restart the kernel to use updated packages.\n"
     ]
    },
    {
     "name": "stderr",
     "output_type": "stream",
     "text": [
      "  Could not find a version that satisfies the requirement urllib (from versions: )\n",
      "No matching distribution found for urllib\n"
     ]
    }
   ],
   "source": [
    "pip install urllib"
   ]
  },
  {
   "cell_type": "code",
   "execution_count": null,
   "metadata": {},
   "outputs": [],
   "source": []
  }
 ],
 "metadata": {
  "kernelspec": {
   "display_name": "Python 3",
   "language": "python",
   "name": "python3"
  },
  "language_info": {
   "codemirror_mode": {
    "name": "ipython",
    "version": 3
   },
   "file_extension": ".py",
   "mimetype": "text/x-python",
   "name": "python",
   "nbconvert_exporter": "python",
   "pygments_lexer": "ipython3",
   "version": "3.7.3"
  }
 },
 "nbformat": 4,
 "nbformat_minor": 2
}
