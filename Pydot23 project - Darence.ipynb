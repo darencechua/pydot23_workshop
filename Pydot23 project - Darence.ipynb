{
 "cells": [
  {
   "cell_type": "code",
   "execution_count": 3,
   "metadata": {},
   "outputs": [],
   "source": [
    "from bs4 import BeautifulSoup\n",
    "import requests\n",
    "from selenium import webdriver\n",
    "import time\n",
    "import datetime\n",
    "import csv\n",
    "import pandas as pd\n",
    "\n",
    "url = 'https://shopee.sg/Nintendo-Switch-Console-System-(Red-Blue)-i.25484840.1276047619'\n",
    "\n",
    "header = [\"Price\", \"Time\"]\n",
    "\n",
    "def get_html_data(url):    \n",
    "    #driver = webdriver.Chrome(executable_path = r\"C:\\Users\\dell\\chromedriver.exe\")\n",
    "    driver = webdriver.Chrome(executable_path = r\"C:\\Users\\PC\\Downloads\\chromedriver.exe\")\n",
    "    driver.get(url)\n",
    "    time.sleep(5)\n",
    "    html_data = driver.page_source\n",
    "    driver.close()\n",
    "    return html_data\n",
    "\n",
    "def get_price():\n",
    "    data = get_html_data(url)\n",
    "    soup = BeautifulSoup(data, 'html.parser')\n",
    "    priceline = soup.find_all(\"div\",{\"class\":\"_3n5NQx\"})\n",
    "    price = priceline[0].get_text()   \n",
    "    return float(price[1::])\n",
    "\n",
    "def get_time():\n",
    "    time = datetime.datetime.now()\n",
    "    return time\n",
    "\n",
    "def write(row):\n",
    "    with open(\"price_record.csv\", \"a\", newline=\"\") as f:\n",
    "        csv.writer(f).writerow(row)\n",
    "        \n",
    "p_now = get_price()\n",
    "t_now = get_time()\n"
   ]
  },
  {
   "cell_type": "code",
   "execution_count": 4,
   "metadata": {
    "scrolled": true
   },
   "outputs": [
    {
     "name": "stdout",
     "output_type": "stream",
     "text": [
      "459.0\n",
      "2019-10-05 08:38:24.153771\n"
     ]
    }
   ],
   "source": [
    "print(p_now); print(t_now)"
   ]
  },
  {
   "cell_type": "code",
   "execution_count": 9,
   "metadata": {},
   "outputs": [],
   "source": [
    "#write(header)"
   ]
  },
  {
   "cell_type": "code",
   "execution_count": 10,
   "metadata": {},
   "outputs": [],
   "source": [
    "try:\n",
    "    while True:\n",
    "        price1 = get_price()\n",
    "        time1 = get_time()\n",
    "        record = [price1, time1]\n",
    "        time.sleep(60)\n",
    "        write(record)\n",
    "        \n",
    "except KeyboardInterrupt:\n",
    "    pass"
   ]
  },
  {
   "cell_type": "code",
   "execution_count": 11,
   "metadata": {},
   "outputs": [
    {
     "data": {
      "text/html": [
       "<div>\n",
       "<style scoped>\n",
       "    .dataframe tbody tr th:only-of-type {\n",
       "        vertical-align: middle;\n",
       "    }\n",
       "\n",
       "    .dataframe tbody tr th {\n",
       "        vertical-align: top;\n",
       "    }\n",
       "\n",
       "    .dataframe thead th {\n",
       "        text-align: right;\n",
       "    }\n",
       "</style>\n",
       "<table border=\"1\" class=\"dataframe\">\n",
       "  <thead>\n",
       "    <tr style=\"text-align: right;\">\n",
       "      <th></th>\n",
       "      <th>459</th>\n",
       "      <th>2019-10-02 19:13:51.841630</th>\n",
       "    </tr>\n",
       "  </thead>\n",
       "  <tbody>\n",
       "    <tr>\n",
       "      <th>8</th>\n",
       "      <td>459.0</td>\n",
       "      <td>2019-10-02 19:38:16.097999</td>\n",
       "    </tr>\n",
       "    <tr>\n",
       "      <th>9</th>\n",
       "      <td>459.0</td>\n",
       "      <td>2019-10-02 19:39:47.552806</td>\n",
       "    </tr>\n",
       "    <tr>\n",
       "      <th>10</th>\n",
       "      <td>459.0</td>\n",
       "      <td>2019-10-05 08:38:55.379994</td>\n",
       "    </tr>\n",
       "    <tr>\n",
       "      <th>11</th>\n",
       "      <td>459.0</td>\n",
       "      <td>2019-10-05 08:43:05.249474</td>\n",
       "    </tr>\n",
       "    <tr>\n",
       "      <th>12</th>\n",
       "      <td>459.0</td>\n",
       "      <td>2019-10-05 08:44:22.775119</td>\n",
       "    </tr>\n",
       "  </tbody>\n",
       "</table>\n",
       "</div>"
      ],
      "text/plain": [
       "      459  2019-10-02 19:13:51.841630\n",
       "8   459.0  2019-10-02 19:38:16.097999\n",
       "9   459.0  2019-10-02 19:39:47.552806\n",
       "10  459.0  2019-10-05 08:38:55.379994\n",
       "11  459.0  2019-10-05 08:43:05.249474\n",
       "12  459.0  2019-10-05 08:44:22.775119"
      ]
     },
     "execution_count": 11,
     "metadata": {},
     "output_type": "execute_result"
    }
   ],
   "source": [
    "data = pd.read_csv('price_record.csv')\n",
    "data.tail()"
   ]
  },
  {
   "cell_type": "code",
   "execution_count": 13,
   "metadata": {},
   "outputs": [
    {
     "data": {
      "image/png": "[encoded data removed]",
      "text/plain": [
       "<Figure size 432x288 with 1 Axes>"
      ]
     },
     "metadata": {
      "needs_background": "light"
     },
     "output_type": "display_data"
    }
   ],
   "source": [
    "import matplotlib.pyplot as plt\n",
    "\n",
    "x = []\n",
    "y = []\n",
    "\n",
    "with open('price_record.csv','r') as csvfile:\n",
    "    file = csv.reader(csvfile, delimiter=',')\n",
    "    for row in file:\n",
    "        x.append((row[0]))\n",
    "        y.append((row[1]))\n",
    "        \n",
    "plt.plot(x,y, label='Price vs Time graph!')\n",
    "plt.xlabel('Price')\n",
    "plt.ylabel('Date & Time')\n",
    "plt.title('Pydot23 project')\n",
    "plt.legend()\n",
    "plt.show()"
   ]
  }
 ],
 "metadata": {
  "kernelspec": {
   "display_name": "Python 3",
   "language": "python",
   "name": "python3"
  },
  "language_info": {
   "codemirror_mode": {
    "name": "ipython",
    "version": 3
   },
   "file_extension": ".py",
   "mimetype": "text/x-python",
   "name": "python",
   "nbconvert_exporter": "python",
   "pygments_lexer": "ipython3",
   "version": "3.7.3"
  }
 },
 "nbformat": 4,
 "nbformat_minor": 2
}
